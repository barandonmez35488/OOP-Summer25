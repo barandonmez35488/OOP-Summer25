{
 "cells": [
  {
   "cell_type": "markdown",
   "id": "ef85f752",
   "metadata": {},
   "source": [
    "## Simplest `BeautifulPony` Class Ever"
   ]
  },
  {
   "cell_type": "code",
   "execution_count": null,
   "id": "3e635e70",
   "metadata": {},
   "outputs": [],
   "source": [
    "class BeautifulPony:\n",
    "    pass"
   ]
  },
  {
   "cell_type": "markdown",
   "id": "a8ce8166",
   "metadata": {},
   "source": [
    "- it doesn’t have any attributes  \n",
    "- it doesn’t have any methods  \n",
    "- there is no constructor"
   ]
  },
  {
   "cell_type": "markdown",
   "id": "6136f408",
   "metadata": {},
   "source": [
    "### What can we do with such a class?"
   ]
  },
  {
   "cell_type": "markdown",
   "id": "e43da713",
   "metadata": {},
   "source": [
    "**1. We can create an object even if this is empty**"
   ]
  },
  {
   "cell_type": "code",
   "execution_count": null,
   "id": "172cc8d6",
   "metadata": {},
   "outputs": [],
   "source": [
    "BeautifulPony()"
   ]
  },
  {
   "cell_type": "markdown",
   "id": "8277ff27",
   "metadata": {},
   "source": [
    "**2. We can create and assign the object to a variable**"
   ]
  },
  {
   "cell_type": "code",
   "execution_count": null,
   "id": "d02b5ec9",
   "metadata": {},
   "outputs": [],
   "source": [
    "pony_1 = BeautifulPony()"
   ]
  },
  {
   "cell_type": "markdown",
   "id": "3868a5a6",
   "metadata": {},
   "source": [
    "**3. We can print the object with its address in memory**"
   ]
  },
  {
   "cell_type": "code",
   "execution_count": null,
   "id": "5b254ea5",
   "metadata": {},
   "outputs": [],
   "source": [
    "print(pony_1)"
   ]
  },
  {
   "cell_type": "markdown",
   "id": "11af1a93",
   "metadata": {},
   "source": [
    "**4. We can create multiple objects of that class**"
   ]
  },
  {
   "cell_type": "code",
   "execution_count": null,
   "id": "b4d546ae",
   "metadata": {},
   "outputs": [],
   "source": [
    "pony_2 = BeautifulPony()\n",
    "pony_3 = BeautifulPony()\n",
    "pony_4 = BeautifulPony()"
   ]
  },
  {
   "cell_type": "markdown",
   "id": "d21e49c3",
   "metadata": {},
   "source": [
    "**5. We can check the addresses of those objects in memory**"
   ]
  },
  {
   "cell_type": "code",
   "execution_count": null,
   "id": "5596fb75",
   "metadata": {},
   "outputs": [],
   "source": [
    "print(pony_1)\n",
    "print(pony_2)\n",
    "print(pony_3)\n",
    "print(pony_4)"
   ]
  },
  {
   "cell_type": "markdown",
   "id": "f2e65548",
   "metadata": {},
   "source": [
    "**6. We can check the type of the object**"
   ]
  },
  {
   "cell_type": "code",
   "execution_count": null,
   "id": "51eed2bf",
   "metadata": {},
   "outputs": [],
   "source": [
    "print(type(pony_1))\n",
    "print(type(pony_2))\n",
    "print(type(pony_3))\n",
    "print(type(pony_4))"
   ]
  }
 ],
 "metadata": {},
 "nbformat": 4,
 "nbformat_minor": 5
}
