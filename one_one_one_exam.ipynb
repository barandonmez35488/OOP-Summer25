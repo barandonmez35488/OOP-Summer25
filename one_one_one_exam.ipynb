{
  "metadata": {
    "kernelspec": {
      "name": "python",
      "display_name": "Python (Pyodide)",
      "language": "python"
    },
    "language_info": {
      "codemirror_mode": {
        "name": "python",
        "version": 3
      },
      "file_extension": ".py",
      "mimetype": "text/x-python",
      "name": "python",
      "nbconvert_exporter": "python",
      "pygments_lexer": "ipython3",
      "version": "3.8"
    }
  },
  "nbformat_minor": 5,
  "nbformat": 4,
  "cells": [
    {
      "id": "e4529d1a",
      "cell_type": "code",
      "source": "print(\"my name is Baran\")",
      "metadata": {},
      "outputs": [],
      "execution_count": null
    },
    {
      "id": "9d1180ff",
      "cell_type": "code",
      "source": "x=5\nprint(x)",
      "metadata": {},
      "outputs": [],
      "execution_count": null
    },
    {
      "id": "bf8173a4",
      "cell_type": "code",
      "source": "#create a dictionary\ncars = {\n    \"brand\": \"Ford\",\n    \"model\": \"Mustang\",\n    \"year\": 1964\n}\n\n",
      "metadata": {},
      "outputs": [],
      "execution_count": null
    }
  ]
}
